{
 "cells": [
  {
   "cell_type": "code",
   "execution_count": null,
   "id": "95f234aa-f5c6-4449-847c-b11439491eed",
   "metadata": {},
   "outputs": [],
   "source": [
    "import streamlit as st\n",
    "import google.generativeai as genai\n",
    "import os\n",
    "import PyPDF2 as pdf\n",
    "from dotenv import load_dotenv\n",
    "import json\n",
    "\n",
    "load_dotenv() ## load all our environment variables\n",
    "\n",
    "genai.configure(api_key=os.getenv(\"GOOGLE_API_KEY\"))\n",
    "\n",
    "def get_gemini_repsonse(input):\n",
    "    model=genai.GenerativeModel('gemini-pro')\n",
    "    response=model.generate_content(input)\n",
    "    return response.text\n",
    "\n",
    "def input_pdf_text(uploaded_file):\n",
    "    reader=pdf.PdfReader(uploaded_file)\n",
    "    text=\"\"\n",
    "    for page in range(len(reader.pages)):\n",
    "        page=reader.pages[page]\n",
    "        text+=str(page.extract_text())\n",
    "    return text\n",
    "\n",
    "#Prompt Template\n",
    "\n",
    "input_prompt=\"\"\"\n",
    "Hey Act Like a skilled or very experience ATS(Application Tracking System)\n",
    "with a deep understanding of tech field,software engineering,data science ,data analyst\n",
    "and big data engineer. Your task is to evaluate the resume based on the given job description.\n",
    "You must consider the job market is very competitive and you should provide \n",
    "best assistance for improving thr resumes. Assign the percentage Matching based \n",
    "on Jd and\n",
    "the missing keywords with high accuracy\n",
    "resume:{text}\n",
    "description:{jd}\n",
    "\n",
    "I want the response in one single string having the structure\n",
    "{{\"JD Match\":\"%\",\"MissingKeywords:[]\",\"Profile Summary\":\"\"}}\n",
    "\"\"\"\n",
    "\n",
    "## streamlit app\n",
    "st.title(\"Smart ATS\")\n",
    "st.text(\"Improve Your Resume ATS\")\n",
    "jd=st.text_area(\"Paste the Job Description\")\n",
    "uploaded_file=st.file_uploader(\"Upload Your Resume\",type=\"pdf\",help=\"Please uplaod the pdf\")\n",
    "\n",
    "submit = st.button(\"Submit\")\n",
    "\n",
    "if submit:\n",
    "    if uploaded_file is not None:\n",
    "        text=input_pdf_text(uploaded_file)\n",
    "        response=get_gemini_repsonse(input_prompt)\n",
    "        st.subheader(response)"
   ]
  }
 ],
 "metadata": {
  "kernelspec": {
   "display_name": "Python 3 (ipykernel)",
   "language": "python",
   "name": "python3"
  },
  "language_info": {
   "codemirror_mode": {
    "name": "ipython",
    "version": 3
   },
   "file_extension": ".py",
   "mimetype": "text/x-python",
   "name": "python",
   "nbconvert_exporter": "python",
   "pygments_lexer": "ipython3",
   "version": "3.11.7"
  }
 },
 "nbformat": 4,
 "nbformat_minor": 5
}
