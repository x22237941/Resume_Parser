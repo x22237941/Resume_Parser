{
 "cells": [
  {
   "cell_type": "code",
   "execution_count": 1,
   "id": "36ef0d0c-efbf-4e41-965d-b83845464ca4",
   "metadata": {},
   "outputs": [
    {
     "name": "stdout",
     "output_type": "stream",
     "text": [
      "Requirement already satisfied: requests in c:\\users\\sana jalgaonkar\\appdata\\local\\programs\\python\\python312\\lib\\site-packages (2.31.0)Note: you may need to restart the kernel to use updated packages.\n",
      "\n",
      "Requirement already satisfied: pandas in c:\\users\\sana jalgaonkar\\appdata\\local\\programs\\python\\python312\\lib\\site-packages (2.2.1)\n",
      "Requirement already satisfied: charset-normalizer<4,>=2 in c:\\users\\sana jalgaonkar\\appdata\\local\\programs\\python\\python312\\lib\\site-packages (from requests) (3.3.2)\n",
      "Requirement already satisfied: idna<4,>=2.5 in c:\\users\\sana jalgaonkar\\appdata\\local\\programs\\python\\python312\\lib\\site-packages (from requests) (3.6)\n",
      "Requirement already satisfied: urllib3<3,>=1.21.1 in c:\\users\\sana jalgaonkar\\appdata\\local\\programs\\python\\python312\\lib\\site-packages (from requests) (2.2.1)\n",
      "Requirement already satisfied: certifi>=2017.4.17 in c:\\users\\sana jalgaonkar\\appdata\\local\\programs\\python\\python312\\lib\\site-packages (from requests) (2024.2.2)\n",
      "Requirement already satisfied: numpy<2,>=1.26.0 in c:\\users\\sana jalgaonkar\\appdata\\local\\programs\\python\\python312\\lib\\site-packages (from pandas) (1.26.4)\n",
      "Requirement already satisfied: python-dateutil>=2.8.2 in c:\\users\\sana jalgaonkar\\appdata\\local\\programs\\python\\python312\\lib\\site-packages (from pandas) (2.9.0.post0)\n",
      "Requirement already satisfied: pytz>=2020.1 in c:\\users\\sana jalgaonkar\\appdata\\local\\programs\\python\\python312\\lib\\site-packages (from pandas) (2024.1)\n",
      "Requirement already satisfied: tzdata>=2022.7 in c:\\users\\sana jalgaonkar\\appdata\\local\\programs\\python\\python312\\lib\\site-packages (from pandas) (2024.1)\n",
      "Requirement already satisfied: six>=1.5 in c:\\users\\sana jalgaonkar\\appdata\\local\\programs\\python\\python312\\lib\\site-packages (from python-dateutil>=2.8.2->pandas) (1.16.0)\n"
     ]
    }
   ],
   "source": [
    "pip install requests pandas"
   ]
  },
  {
   "cell_type": "code",
   "execution_count": 6,
   "id": "91ccef9f-6cb4-46ef-b237-2cc00ac0e3c6",
   "metadata": {},
   "outputs": [],
   "source": [
    "import requests\n",
    "from requests.auth import HTTPBasicAuth\n",
    "import pandas as pd"
   ]
  },
  {
   "cell_type": "code",
   "execution_count": 3,
   "id": "00edc010-4735-49ab-8b76-c27ef9c61af3",
   "metadata": {},
   "outputs": [],
   "source": [
    "CLIENT_ID = 'your_client_id'\n",
    "CLIENT_SECRET = 'your_client_secret'\n",
    "REDIRECT_URI = 'your_redirect_uri'\n",
    "AUTH_URL = 'https://www.linkedin.com/oauth/v2/authorization'\n",
    "TOKEN_URL = 'https://www.linkedin.com/oauth/v2/accessToken'"
   ]
  },
  {
   "cell_type": "markdown",
   "id": "59db58f8-8003-41eb-9c45-26ad5ea367ef",
   "metadata": {},
   "source": [
    "### Get Authorization Code"
   ]
  },
  {
   "cell_type": "code",
   "execution_count": 5,
   "id": "e73da170-81a4-4044-a66c-fb3719cf56e6",
   "metadata": {},
   "outputs": [
    {
     "name": "stdout",
     "output_type": "stream",
     "text": [
      "Visit this URL to authorize the application: https://www.linkedin.com/oauth/v2/authorization?response_type=code&client_id=your_client_id&redirect_uri=your_redirect_uri&scope=r_liteprofile+r_emailaddress+w_member_social\n"
     ]
    }
   ],
   "source": [
    "auth_params = {\n",
    "    'response_type': 'code',\n",
    "    'client_id': CLIENT_ID,\n",
    "    'redirect_uri': REDIRECT_URI,\n",
    "    'scope': 'r_liteprofile r_emailaddress w_member_social',\n",
    "}\n",
    "response = requests.get(AUTH_URL, params=auth_params)\n",
    "print(f\"Visit this URL to authorize the application: {response.url}\")"
   ]
  },
  {
   "cell_type": "markdown",
   "id": "e51f7b52-376d-457e-92e9-525182157366",
   "metadata": {},
   "source": [
    "### Get Access Token"
   ]
  },
  {
   "cell_type": "code",
   "execution_count": null,
   "id": "f9b3e0fa-9230-428d-ac48-b71742b348ba",
   "metadata": {},
   "outputs": [],
   "source": [
    "auth_code = input('Enter the authorization code: ')\n",
    "token_params = {\n",
    "    'grant_type': 'authorization_code',\n",
    "    'code': auth_code,\n",
    "    'redirect_uri': REDIRECT_URI,\n",
    "    'client_id': CLIENT_ID,\n",
    "    'client_secret': CLIENT_SECRET,\n",
    "}\n",
    "\n",
    "token_response = requests.post(TOKEN_URL, data=token_params, auth=HTTPBasicAuth(CLIENT_ID, CLIENT_SECRET))\n",
    "access_token = token_response.json().get('access_token')\n",
    "print(f\"Access Token: {access_token}\")"
   ]
  },
  {
   "cell_type": "code",
   "execution_count": null,
   "id": "e2a2e575-9010-4f67-bfb7-feb2d4470248",
   "metadata": {},
   "outputs": [],
   "source": [
    "def fetch_job_descriptions(access_token, job_title, location=''):\n",
    "    headers = {\n",
    "        'Authorization': f'Bearer {access_token}',\n",
    "        'Content-Type': 'application/json',\n",
    "        'X-Restli-Protocol-Version': '2.0.0'\n",
    "    }\n",
    "\n",
    "    search_url = 'https://api.linkedin.com/v2/jobSearch'\n",
    "    params = {\n",
    "        'keywords': job_title,\n",
    "        'location': location,\n",
    "        'count': 10  # Number of job postings to fetch\n",
    "    }\n",
    "\n",
    "    response = requests.get(search_url, headers=headers, params=params)\n",
    "    jobs = response.json().get('elements', [])\n",
    "\n",
    "    job_descriptions = []\n",
    "    for job in jobs:\n",
    "        job_descriptions.append({\n",
    "            'Title': job.get('title'),\n",
    "            'Company': job.get('companyName'),\n",
    "            'Location': job.get('formattedLocation'),\n",
    "            'Description': job.get('description')\n",
    "        })\n",
    "\n",
    "    return pd.DataFrame(job_descriptions)"
   ]
  },
  {
   "cell_type": "code",
   "execution_count": 7,
   "id": "05a5f2c7-8ad0-4718-9512-587bf5e820b2",
   "metadata": {},
   "outputs": [
    {
     "ename": "NameError",
     "evalue": "name 'fetch_job_descriptions' is not defined",
     "output_type": "error",
     "traceback": [
      "\u001b[1;31m---------------------------------------------------------------------------\u001b[0m",
      "\u001b[1;31mNameError\u001b[0m                                 Traceback (most recent call last)",
      "Cell \u001b[1;32mIn[7], line 1\u001b[0m\n\u001b[1;32m----> 1\u001b[0m data_analyst_jobs \u001b[38;5;241m=\u001b[39m \u001b[43mfetch_job_descriptions\u001b[49m(access_token, \u001b[38;5;124m'\u001b[39m\u001b[38;5;124mData Analyst\u001b[39m\u001b[38;5;124m'\u001b[39m)\n\u001b[0;32m      2\u001b[0m data_engineer_jobs \u001b[38;5;241m=\u001b[39m fetch_job_descriptions(access_token, \u001b[38;5;124m'\u001b[39m\u001b[38;5;124mData Engineer\u001b[39m\u001b[38;5;124m'\u001b[39m)\n\u001b[0;32m      3\u001b[0m data_scientist_jobs \u001b[38;5;241m=\u001b[39m fetch_job_descriptions(access_token, \u001b[38;5;124m'\u001b[39m\u001b[38;5;124mData Scientist\u001b[39m\u001b[38;5;124m'\u001b[39m)\n",
      "\u001b[1;31mNameError\u001b[0m: name 'fetch_job_descriptions' is not defined"
     ]
    }
   ],
   "source": [
    "data_analyst_jobs = fetch_job_descriptions(access_token, 'Data Analyst')\n",
    "data_engineer_jobs = fetch_job_descriptions(access_token, 'Data Engineer')\n",
    "data_scientist_jobs = fetch_job_descriptions(access_token, 'Data Scientist')"
   ]
  },
  {
   "cell_type": "code",
   "execution_count": null,
   "id": "91a7a794-fdef-4c57-9d35-017f185e03a6",
   "metadata": {},
   "outputs": [],
   "source": [
    "# Save to CSV\n",
    "data_analyst_jobs.to_csv('data_analyst_jobs.csv', index=False)\n",
    "data_engineer_jobs.to_csv('data_engineer_jobs.csv', index=False)\n",
    "data_scientist_jobs.to_csv('data_scientist_jobs.csv', index=False)"
   ]
  }
 ],
 "metadata": {
  "kernelspec": {
   "display_name": "Python 3 (ipykernel)",
   "language": "python",
   "name": "python3"
  },
  "language_info": {
   "codemirror_mode": {
    "name": "ipython",
    "version": 3
   },
   "file_extension": ".py",
   "mimetype": "text/x-python",
   "name": "python",
   "nbconvert_exporter": "python",
   "pygments_lexer": "ipython3",
   "version": "3.12.2"
  }
 },
 "nbformat": 4,
 "nbformat_minor": 5
}
